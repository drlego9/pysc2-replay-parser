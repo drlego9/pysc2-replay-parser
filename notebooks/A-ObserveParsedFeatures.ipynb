{
 "cells": [
  {
   "cell_type": "code",
   "execution_count": 15,
   "metadata": {},
   "outputs": [],
   "source": [
    "import os\n",
    "import numpy as np\n",
    "\n",
    "from pysc2.lib import actions\n",
    "from pysc2.lib import features"
   ]
  },
  {
   "cell_type": "code",
   "execution_count": 16,
   "metadata": {},
   "outputs": [],
   "source": [
    "PROJECT_DIR = os.path.abspath('../')\n",
    "PARSED_DIR = os.path.join(PROJECT_DIR, 'parsed')\n",
    "assert all([os.path.isdir(PROJECT_DIR), os.path.isdir(PARSED_DIR)])"
   ]
  },
  {
   "cell_type": "code",
   "execution_count": 17,
   "metadata": {},
   "outputs": [],
   "source": [
    "def load_features(replay_dir, feature_type='screen'):\n",
    "    \"\"\"Load parsed features from .npz file format.\"\"\"\n",
    "    if feature_type == 'screen':\n",
    "        filepath = os.path.join(replay_dir, 'ScreenFeatures.npz')\n",
    "    elif feature_type == 'minimap':\n",
    "        filepath = os.path.join(replay_dir, 'MinimapFeatures.npz')\n",
    "    elif feature_type == 'flat':\n",
    "        filepath = os.path.join(replay_dir, 'FlatFeatures.npz')\n",
    "        raise NotImplementedError\n",
    "    else:\n",
    "        raise ValueError\n",
    "    \n",
    "    with np.load(filepath) as fp:\n",
    "        name2feature = {k: v for k, v in fp.items()}\n",
    "    \n",
    "    return name2feature"
   ]
  },
  {
   "cell_type": "code",
   "execution_count": 18,
   "metadata": {},
   "outputs": [],
   "source": [
    "def human_readable_size(size, precision=2):\n",
    "    suffixes = ['B','KB','MB','GB','TB']\n",
    "    suffix_idx = 0\n",
    "    while size > 1024 and suffix_idx < 4:\n",
    "        suffix_idx += 1     # increment the index of the suffix\n",
    "        size = size / 1024.0  # apply the division\n",
    "    return \"%.*f%s\" % (precision, size, suffixes[suffix_idx])"
   ]
  },
  {
   "cell_type": "code",
   "execution_count": 49,
   "metadata": {},
   "outputs": [
    {
     "name": "stdout",
     "output_type": "stream",
     "text": [
      "Replay Name: 000779266779913ff54c46c6ecb601143a646acab761ffc3de1e58eadcabaa34\n",
      "----------------------------------------------------------------------\n",
      "SCREEN  | shape: (1551, 17, 64, 64) | size: 411.98MB\n",
      "Name:               height_map | Type:         SCALAR (256)\n",
      "Name:           visibility_map | Type:    CATEGORICAL (4)\n",
      "Name:                    creep | Type:    CATEGORICAL (2)\n",
      "Name:                    power | Type:    CATEGORICAL (2)\n",
      "Name:                player_id | Type:    CATEGORICAL (17)\n",
      "Name:          player_relative | Type:    CATEGORICAL (5)\n",
      "Name:                unit_type | Type:    CATEGORICAL (1914)\n",
      "Name:                 selected | Type:    CATEGORICAL (2)\n",
      "Name:          unit_hit_points | Type:         SCALAR (1600)\n",
      "Name:    unit_hit_points_ratio | Type:         SCALAR (256)\n",
      "Name:              unit_energy | Type:         SCALAR (1000)\n",
      "Name:        unit_energy_ratio | Type:         SCALAR (256)\n",
      "Name:             unit_shields | Type:         SCALAR (1000)\n",
      "Name:       unit_shields_ratio | Type:         SCALAR (256)\n",
      "Name:             unit_density | Type:         SCALAR (16)\n",
      "Name:          unit_density_aa | Type:         SCALAR (256)\n",
      "Name:                  effects | Type:    CATEGORICAL (16)\n",
      "----------------------------------------------------------------------\n",
      "MINIMAP | shape: (1551, 7, 64, 64)  | size: 169.64MB\n",
      "Name:               height_map | Type:         SCALAR (256)\n",
      "Name:           visibility_map | Type:    CATEGORICAL (4)\n",
      "Name:                    creep | Type:    CATEGORICAL (2)\n",
      "Name:                   camera | Type:    CATEGORICAL (2)\n",
      "Name:                player_id | Type:    CATEGORICAL (17)\n",
      "Name:          player_relative | Type:    CATEGORICAL (5)\n",
      "Name:                 selected | Type:    CATEGORICAL (2)\n",
      "======================================================================\n"
     ]
    }
   ],
   "source": [
    "for replay_dir in os.listdir(PARSED_DIR):\n",
    "    \n",
    "    # Load features\n",
    "    print('Replay Name: %s' % replay_dir)\n",
    "    replay_dir = os.path.join(PARSED_DIR, replay_dir)\n",
    "    screen_features = load_features(replay_dir, 'screen')    # dict\n",
    "    minimap_features = load_features(replay_dir, 'minimap')  # dict\n",
    "    \n",
    "    # Split keys and values into separate tuples\n",
    "    screen_names, screen_features = zip(*screen_features.items())\n",
    "    minimap_names, minimap_features = zip(*minimap_features.items())\n",
    "    \n",
    "    # Stack features along the channel axis (1)\n",
    "    screen_features = np.stack(screen_features, axis=1)\n",
    "    minimap_features = np.stack(minimap_features, axis=1)\n",
    "    \n",
    "    print('-' * 70)\n",
    "    print(\n",
    "        'SCREEN  | shape: {} | size: {}'.format(\n",
    "            screen_features.shape, human_readable_size(screen_features.nbytes)\n",
    "        )\n",
    "    )\n",
    "    # Check order consistency with pysc2.lib.features.SCREEN_FEATURES\n",
    "    for sc_name, sc_spec in zip(screen_names, features.SCREEN_FEATURES):\n",
    "        assert sc_name == sc_spec.name\n",
    "        name_ = sc_spec.name\n",
    "        type_ = sc_spec.type.__str__().split('.')[-1]\n",
    "        scale_ = sc_spec.scale\n",
    "        print('Name:{:>25} | Type:{:>15} ({})'.format(name_, type_, scale_))\n",
    "    \n",
    "    print('-' * 70)\n",
    "    print(\n",
    "        'MINIMAP | shape: {}  | size: {}'.format(\n",
    "            minimap_features.shape, human_readable_size(minimap_features.nbytes)\n",
    "        )\n",
    "    )\n",
    "    \n",
    "    # Check order consistency with pysc2.lib.features.MINIMAP_FEATURES\n",
    "    for mn_name, mn_spec in zip(minimap_names, features.MINIMAP_FEATURES):\n",
    "        assert mn_name == mn_spec.name\n",
    "        name_ = mn_spec.name\n",
    "        type_ = mn_spec.type.__str__().split('.')[-1]\n",
    "        scale_ = mn_spec.scale\n",
    "        print('Name:{:>25} | Type:{:>15} ({})'.format(name_, type_, scale_))\n",
    "    \n",
    "    print('=' * 70)\n",
    "    break"
   ]
  },
  {
   "cell_type": "code",
   "execution_count": null,
   "metadata": {},
   "outputs": [],
   "source": []
  }
 ],
 "metadata": {
  "kernelspec": {
   "display_name": "Python 3",
   "language": "python",
   "name": "python3"
  },
  "language_info": {
   "codemirror_mode": {
    "name": "ipython",
    "version": 3
   },
   "file_extension": ".py",
   "mimetype": "text/x-python",
   "name": "python",
   "nbconvert_exporter": "python",
   "pygments_lexer": "ipython3",
   "version": "3.6.7"
  },
  "varInspector": {
   "cols": {
    "lenName": 16,
    "lenType": 16,
    "lenVar": 40
   },
   "kernels_config": {
    "python": {
     "delete_cmd_postfix": "",
     "delete_cmd_prefix": "del ",
     "library": "var_list.py",
     "varRefreshCmd": "print(var_dic_list())"
    },
    "r": {
     "delete_cmd_postfix": ") ",
     "delete_cmd_prefix": "rm(",
     "library": "var_list.r",
     "varRefreshCmd": "cat(var_dic_list()) "
    }
   },
   "types_to_exclude": [
    "module",
    "function",
    "builtin_function_or_method",
    "instance",
    "_Feature"
   ],
   "window_display": false
  }
 },
 "nbformat": 4,
 "nbformat_minor": 2
}
