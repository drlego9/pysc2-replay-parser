{
 "cells": [
  {
   "cell_type": "code",
   "execution_count": 1,
   "metadata": {},
   "outputs": [],
   "source": [
    "import os\n",
    "import sys\n",
    "import numpy as np\n",
    "\n",
    "from pysc2.lib import actions\n",
    "from pysc2.lib import features\n",
    "\n",
    "sys.path.append(os.path.abspath('../'))\n",
    "from custom_features import SPATIAL_FEATURES"
   ]
  },
  {
   "cell_type": "code",
   "execution_count": 2,
   "metadata": {},
   "outputs": [],
   "source": [
    "PROJECT_DIR = os.path.abspath('../')\n",
    "REPLAY_DIR = os.path.join(PROJECT_DIR, 'sample')\n",
    "assert all([os.path.isdir(PROJECT_DIR), os.path.isdir(REPLAY_DIR)])"
   ]
  },
  {
   "cell_type": "code",
   "execution_count": 3,
   "metadata": {},
   "outputs": [],
   "source": [
    "def load_features(replay_dir, feature_type='spatial'):\n",
    "    \"\"\"Load parsed features from .npz file format.\"\"\"\n",
    "    if feature_type == 'screen':\n",
    "        filepath = os.path.join(replay_dir, 'ScreenFeatures.npz')\n",
    "    elif feature_type == 'minimap':\n",
    "        filepath = os.path.join(replay_dir, 'MinimapFeatures.npz')\n",
    "    elif feature_type == 'spatial':\n",
    "        filepath = os.path.join(replay_dir, 'SpatialFeatures.npz')\n",
    "    elif feature_type == 'flat':\n",
    "        filepath = os.path.join(replay_dir, 'FlatFeatures.npz')\n",
    "        raise NotImplementedError\n",
    "    else:\n",
    "        raise ValueError\n",
    "    \n",
    "    with np.load(filepath) as fp:\n",
    "        name2feature = {k: v for k, v in fp.items()}\n",
    "    \n",
    "    return name2feature"
   ]
  },
  {
   "cell_type": "code",
   "execution_count": 4,
   "metadata": {},
   "outputs": [],
   "source": [
    "def human_readable_size(size, precision=2):\n",
    "    suffixes = ['B','KB','MB','GB','TB']\n",
    "    suffix_idx = 0\n",
    "    while size > 1024 and suffix_idx < 4:\n",
    "        suffix_idx += 1     # increment the index of the suffix\n",
    "        size = size / 1024.0  # apply the division\n",
    "    return \"%.*f%s\" % (precision, size, suffixes[suffix_idx])"
   ]
  },
  {
   "cell_type": "code",
   "execution_count": 5,
   "metadata": {},
   "outputs": [
    {
     "name": "stdout",
     "output_type": "stream",
     "text": [
      "[Screen features]\n",
      "=========================================================================================================\n",
      "[00] Name: height_map            | Type: SCALAR      | Scale:  256 | Shape: (1040, 128, 128) | Size: 65.00MB\n",
      "[01] Name: visibility_map        | Type: CATEGORICAL | Scale:    4 | Shape: (1040, 128, 128) | Size: 65.00MB\n",
      "[02] Name: creep                 | Type: CATEGORICAL | Scale:    2 | Shape: (1040, 128, 128) | Size: 65.00MB\n",
      "[03] Name: power                 | Type: CATEGORICAL | Scale:    2 | Shape: (1040, 128, 128) | Size: 65.00MB\n",
      "[04] Name: player_id             | Type: CATEGORICAL | Scale:   17 | Shape: (1040, 128, 128) | Size: 65.00MB\n",
      "[05] Name: player_relative       | Type: CATEGORICAL | Scale:    5 | Shape: (1040, 128, 128) | Size: 65.00MB\n",
      "[06] Name: unit_type             | Type: CATEGORICAL | Scale: 1914 | Shape: (1040, 128, 128) | Size: 65.00MB\n",
      "[07] Name: selected              | Type: CATEGORICAL | Scale:    2 | Shape: (1040, 128, 128) | Size: 65.00MB\n",
      "[08] Name: unit_hit_points       | Type: SCALAR      | Scale: 1600 | Shape: (1040, 128, 128) | Size: 65.00MB\n",
      "[09] Name: unit_hit_points_ratio | Type: SCALAR      | Scale:  256 | Shape: (1040, 128, 128) | Size: 65.00MB\n",
      "[10] Name: unit_energy           | Type: SCALAR      | Scale: 1000 | Shape: (1040, 128, 128) | Size: 65.00MB\n",
      "[11] Name: unit_energy_ratio     | Type: SCALAR      | Scale:  256 | Shape: (1040, 128, 128) | Size: 65.00MB\n",
      "[12] Name: unit_shields          | Type: SCALAR      | Scale: 1000 | Shape: (1040, 128, 128) | Size: 65.00MB\n",
      "[13] Name: unit_shields_ratio    | Type: SCALAR      | Scale:  256 | Shape: (1040, 128, 128) | Size: 65.00MB\n",
      "[14] Name: unit_density          | Type: SCALAR      | Scale:   16 | Shape: (1040, 128, 128) | Size: 65.00MB\n",
      "[15] Name: unit_density_aa       | Type: SCALAR      | Scale:  256 | Shape: (1040, 128, 128) | Size: 65.00MB\n",
      "[16] Name: effects               | Type: CATEGORICAL | Scale:   16 | Shape: (1040, 128, 128) | Size: 65.00MB\n"
     ]
    }
   ],
   "source": [
    "# Load screen features\n",
    "screen_specs = features.SCREEN_FEATURES._asdict()\n",
    "screen_features = load_features(replay_dir=REPLAY_DIR, feature_type='screen')  # dict\n",
    "\n",
    "print('[Screen features]')\n",
    "print('=' * 105)\n",
    "for i, (sc_name, sc_feat) in enumerate(screen_features.items()):\n",
    "    type_ = str(screen_specs[sc_name].type).split('.')[-1]\n",
    "    scale_ = screen_specs[sc_name].scale\n",
    "    print(\n",
    "        '[{:>02}] Name: {:<21} | Type: {:<11} | Scale: {:>4} | Shape: {} | Size: {}'.format(\n",
    "            i, sc_name, type_, scale_, sc_feat.shape, human_readable_size(sc_feat.nbytes)\n",
    "        )\n",
    "    )"
   ]
  },
  {
   "cell_type": "code",
   "execution_count": 6,
   "metadata": {},
   "outputs": [
    {
     "name": "stdout",
     "output_type": "stream",
     "text": [
      "[Minmap features]\n",
      "===================================================================================================\n",
      "[00] Name: height_map      | Type: SCALAR      | Scale:  256 | Shape: (1040, 128, 128) | Size: 65.00MB\n",
      "[01] Name: visibility_map  | Type: CATEGORICAL | Scale:    4 | Shape: (1040, 128, 128) | Size: 65.00MB\n",
      "[02] Name: creep           | Type: CATEGORICAL | Scale:    2 | Shape: (1040, 128, 128) | Size: 65.00MB\n",
      "[03] Name: camera          | Type: CATEGORICAL | Scale:    2 | Shape: (1040, 128, 128) | Size: 65.00MB\n",
      "[04] Name: player_id       | Type: CATEGORICAL | Scale:   17 | Shape: (1040, 128, 128) | Size: 65.00MB\n",
      "[05] Name: player_relative | Type: CATEGORICAL | Scale:    5 | Shape: (1040, 128, 128) | Size: 65.00MB\n",
      "[06] Name: selected        | Type: CATEGORICAL | Scale:    2 | Shape: (1040, 128, 128) | Size: 65.00MB\n"
     ]
    }
   ],
   "source": [
    "# Load minimap features\n",
    "minimap_specs = features.MINIMAP_FEATURES._asdict()\n",
    "minimap_features = load_features(replay_dir=REPLAY_DIR, feature_type='minimap')  # dict\n",
    "print('[Minmap features]')\n",
    "print('=' * 99)\n",
    "for i, (mn_name, mn_feat) in enumerate(minimap_features.items()):\n",
    "    type_ = str(minimap_specs[mn_name].type).split('.')[-1]\n",
    "    scale_ = minimap_specs[mn_name].scale\n",
    "    print(\n",
    "        '[{:>02}] Name: {:<15} | Type: {:<11} | Scale: {:>4} | Shape: {} | Size: {}'.format(\n",
    "            i, mn_name, type_, scale_, mn_feat.shape, human_readable_size(mn_feat.nbytes)\n",
    "        )\n",
    "    )"
   ]
  },
  {
   "cell_type": "code",
   "execution_count": 7,
   "metadata": {},
   "outputs": [
    {
     "name": "stdout",
     "output_type": "stream",
     "text": [
      "[Spatial features (Customized)]\n",
      "======================================================================================================\n",
      "[00] Name: height_map      | Type: SCALAR      | Scale:  256 | Shape: (1040, 128, 128) | Size: 65.00MB\n",
      "[01] Name: visibility_map  | Type: CATEGORICAL | Scale:    4 | Shape: (1040, 128, 128) | Size: 65.00MB\n",
      "[02] Name: creep           | Type: CATEGORICAL | Scale:    2 | Shape: (1040, 128, 128) | Size: 65.00MB\n",
      "[03] Name: camera          | Type: CATEGORICAL | Scale:    2 | Shape: (1040, 128, 128) | Size: 65.00MB\n",
      "[04] Name: player_id       | Type: CATEGORICAL | Scale:   17 | Shape: (1040, 128, 128) | Size: 65.00MB\n",
      "[05] Name: player_relative | Type: CATEGORICAL | Scale:    5 | Shape: (1040, 128, 128) | Size: 65.00MB\n",
      "[06] Name: selected        | Type: CATEGORICAL | Scale:    2 | Shape: (1040, 128, 128) | Size: 65.00MB\n",
      "[07] Name: unit_type       | Type: CATEGORICAL | Scale: 1914 | Shape: (1040, 128, 128) | Size: 65.00MB\n"
     ]
    }
   ],
   "source": [
    "# Load spatial features (minimap features + 'unit_type' channel)\n",
    "spatial_specs = SPATIAL_FEATURES._asdict()\n",
    "spatial_features = load_features(REPLAY_DIR, 'spatial')\n",
    "print('[Spatial features (Customized)]')\n",
    "print('=' * 102)\n",
    "for i, (sp_name, sp_feat) in enumerate(spatial_features.items()):\n",
    "    type_ = str(spatial_specs[sp_name].type).split('.')[-1]\n",
    "    scale_ = spatial_specs[sp_name].scale\n",
    "    print(\n",
    "        '[{:>02}] Name: {:<15} | Type: {:<11} | Scale: {:>4} | Shape: {} | Size: {}'.format(\n",
    "            i, sp_name, type_, scale_, sp_feat.shape, human_readable_size(sp_feat.nbytes)\n",
    "        )\n",
    "    )"
   ]
  },
  {
   "cell_type": "code",
   "execution_count": null,
   "metadata": {},
   "outputs": [],
   "source": []
  }
 ],
 "metadata": {
  "kernelspec": {
   "display_name": "Python 3",
   "language": "python",
   "name": "python3"
  },
  "language_info": {
   "codemirror_mode": {
    "name": "ipython",
    "version": 3
   },
   "file_extension": ".py",
   "mimetype": "text/x-python",
   "name": "python",
   "nbconvert_exporter": "python",
   "pygments_lexer": "ipython3",
   "version": "3.6.7"
  },
  "varInspector": {
   "cols": {
    "lenName": 16,
    "lenType": 16,
    "lenVar": 40
   },
   "kernels_config": {
    "python": {
     "delete_cmd_postfix": "",
     "delete_cmd_prefix": "del ",
     "library": "var_list.py",
     "varRefreshCmd": "print(var_dic_list())"
    },
    "r": {
     "delete_cmd_postfix": ") ",
     "delete_cmd_prefix": "rm(",
     "library": "var_list.r",
     "varRefreshCmd": "cat(var_dic_list()) "
    }
   },
   "types_to_exclude": [
    "module",
    "function",
    "builtin_function_or_method",
    "instance",
    "_Feature"
   ],
   "window_display": false
  }
 },
 "nbformat": 4,
 "nbformat_minor": 2
}
